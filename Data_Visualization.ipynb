{
 "cells": [
  {
   "cell_type": "code",
   "execution_count": 1,
   "metadata": {},
   "outputs": [],
   "source": [
    "import numpy as np\n",
    "import pandas as pd\n",
    "import matplotlib.pyplot as plt\n",
    "import plotly\n",
    "import plotly.plotly as py\n",
    "import plotly.graph_objs as go\n",
    "import os\n",
    "import plotly.io as pio\n",
    "from plotly.offline import iplot, init_notebook_mode\n",
    "import numpy as np\n",
    "import pandas as pd\n",
    "import requests\n",
    "from bs4 import BeautifulSoup\n",
    "from nltk import word_tokenize,sent_tokenize\n",
    "import nltk\n",
    "from nltk.tokenize import word_tokenize\n",
    "from nltk.tokenize import sent_tokenize\n",
    "from nltk.probability import FreqDist\n",
    "from nltk.corpus import stopwords\n",
    "from collections import OrderedDict\n",
    "import pprint"
   ]
  },
  {
   "cell_type": "code",
   "execution_count": 20,
   "metadata": {},
   "outputs": [
    {
     "data": {
      "text/html": [
       "        <script type=\"text/javascript\">\n",
       "        window.PlotlyConfig = {MathJaxConfig: 'local'};\n",
       "        if (window.MathJax) {MathJax.Hub.Config({SVG: {font: \"STIX-Web\"}});}\n",
       "        if (typeof require !== 'undefined') {\n",
       "        require.undef(\"plotly\");\n",
       "        requirejs.config({\n",
       "            paths: {\n",
       "                'plotly': ['https://cdn.plot.ly/plotly-latest.min']\n",
       "            }\n",
       "        });\n",
       "        require(['plotly'], function(Plotly) {\n",
       "            window._Plotly = Plotly;\n",
       "        });\n",
       "        }\n",
       "        </script>\n",
       "        "
      ]
     },
     "metadata": {},
     "output_type": "display_data"
    },
    {
     "name": "stderr",
     "output_type": "stream",
     "text": [
      "/anaconda3/lib/python3.6/site-packages/pandas/core/frame.py:6692: FutureWarning:\n",
      "\n",
      "Sorting because non-concatenation axis is not aligned. A future version\n",
      "of pandas will change to not sort by default.\n",
      "\n",
      "To accept the future behavior, pass 'sort=False'.\n",
      "\n",
      "To retain the current behavior and silence the warning, pass 'sort=True'.\n",
      "\n",
      "\n"
     ]
    },
    {
     "data": {
      "text/html": [
       "<iframe id=\"igraph\" scrolling=\"no\" style=\"border:none;\" seamless=\"seamless\" src=\"https://plot.ly/~Carol_Sun/12.embed\" height=\"525px\" width=\"100%\"></iframe>"
      ],
      "text/plain": [
       "<chart_studio.tools.PlotlyDisplay object>"
      ]
     },
     "execution_count": 20,
     "metadata": {},
     "output_type": "execute_result"
    }
   ],
   "source": [
    "# draw plotly for Number of Alive and Dead Persons of the Ten Biggest Families\n",
    "init_notebook_mode(connected=True)\n",
    "plotly.tools.set_credentials_file(username='Carol_Sun', api_key='fXjezPBzwWsrA9HV363N')\n",
    "df = pd.read_csv('people with title final.csv')\n",
    "df2 = df.groupby(['house']).size()\n",
    "df_house = df[['house','isAlive']]\n",
    "df_house2 = df_house[df_house['house'].notnull()]\n",
    "groups = df_house2.groupby(['house']).size()\n",
    "sizes = pd.DataFrame(groups)\n",
    "sizes.rename(columns={0:\"size\"},inplace=True)\n",
    "sizes.reset_index(level=0, inplace=True)\n",
    "sizes = sizes.sort_values(by='size',ascending=False)\n",
    "# most_sizes = sizes.t\n",
    "size2 = sizes.head(10)\n",
    "value = size2['house'].values\n",
    "# print(value)\n",
    "# print(df_group1[['house']].columns)\n",
    "df3 = pd.DataFrame([], columns=['isAlive'])\n",
    "df_group3 = df.set_index('house')\n",
    "for i in value:\n",
    "    df3 = df3.append(df_group3.loc[i,:])\n",
    "\n",
    "df4 = df3.reset_index()\n",
    "\n",
    "groups = df4.groupby(['index','isAlive'])\n",
    "# groups.size().unstack().plot(kind='bar')\n",
    "ten_most_df = pd.DataFrame(groups.size().unstack())\n",
    "# ten_most_df = ten_most_df.reset_index(level=0, inplace=True)\\\n",
    "# print(ten_most_df)\n",
    "# print(ten_most_df[[0]].values)\n",
    "trace1 = go.Bar(\n",
    "    x=ten_most_df.index,\n",
    "     y=ten_most_df[[0]].values,\n",
    "    name='Dead',\n",
    "    marker=dict(\n",
    "        color='#1f77b4'\n",
    "    ),\n",
    "    opacity=0.75\n",
    ")\n",
    "trace2 = go.Bar(\n",
    "    x=ten_most_df.index,\n",
    "    y=ten_most_df[[1]].values,\n",
    "    name='Alive',\n",
    "    marker=dict(\n",
    "        color='#7f7f7f'\n",
    "        \n",
    "    ),\n",
    "    opacity=0.75\n",
    ")\n",
    "\n",
    "data = [trace1, trace2]\n",
    "layout = go.Layout(\n",
    "    title='Number of Alive and Dead Persons of the Ten Biggest Families',\n",
    "    xaxis=dict(\n",
    "        title='House Name'\n",
    "    ),\n",
    "    yaxis=dict(\n",
    "        title='Count'\n",
    "    ),\n",
    "    barmode='stack'\n",
    "\n",
    ")\n",
    "\n",
    "fig = go.Figure(data=data, layout=layout)\n",
    "py.iplot(fig, filename='Number of Alive and Dead Persons of the Ten Biggest Families')\n"
   ]
  },
  {
   "cell_type": "code",
   "execution_count": 21,
   "metadata": {},
   "outputs": [
    {
     "data": {
      "text/html": [
       "<iframe id=\"igraph\" scrolling=\"no\" style=\"border:none;\" seamless=\"seamless\" src=\"https://plot.ly/~Carol_Sun/2.embed\" height=\"525px\" width=\"100%\"></iframe>"
      ],
      "text/plain": [
       "<chart_studio.tools.PlotlyDisplay object>"
      ]
     },
     "execution_count": 21,
     "metadata": {},
     "output_type": "execute_result"
    }
   ],
   "source": [
    "df.loc[df.identity == 'smallfork', 'identity'] = 'smallfolk'\n",
    "#draw the average popularity of each identity\n",
    "unique = df.identity\n",
    "\n",
    "p_rates = {}\n",
    "Pop = sum(df.popularity)\n",
    "for sal in unique:\n",
    "    if(type(sal)==str):\n",
    "        p_rates[sal] = sum(df.loc[df['identity'] == sal,'popularity'])/(sum(df.identity == sal))\n",
    "\n",
    "plot_rates = []  \n",
    "#print(p_rates)\n",
    "for key, value in zip(p_rates.keys(), p_rates.values()):\n",
    "    plot_rates.append([key,round(value,2)])\n",
    "#print(plot_rates)\n",
    "pops = sorted(plot_rates, key = lambda x: x[1], reverse = False)\n",
    "pops = np.array(pops)\n",
    "#print(pops)\n",
    "pops = pops[len(pops)-20:len(pops),:]\n",
    "#print(pops)\n",
    "x = []\n",
    "y = []\n",
    "for i in pops:\n",
    "    x.append(i[0])\n",
    "    y.append(i[1])\n",
    "#print(x,y)\n",
    "\n",
    "layout = go.Layout(\n",
    "    title='the average popularity of each identity',\n",
    "    xaxis=dict(\n",
    "        title='Popularity'\n",
    "    ),\n",
    "    yaxis=dict(\n",
    "        title='Identity'\n",
    "    ),\n",
    "    barmode='stack'\n",
    ")\n",
    "data = [go.Bar(\n",
    "            x=x,\n",
    "            y=y,\n",
    "    )]\n",
    "fig = go.Figure(data=data, layout=layout)\n",
    "py.iplot(fig, filename='basic-bar')"
   ]
  }
 ],
 "metadata": {
  "kernelspec": {
   "display_name": "Python 3",
   "language": "python",
   "name": "python3"
  },
  "language_info": {
   "codemirror_mode": {
    "name": "ipython",
    "version": 3
   },
   "file_extension": ".py",
   "mimetype": "text/x-python",
   "name": "python",
   "nbconvert_exporter": "python",
   "pygments_lexer": "ipython3",
   "version": "3.6.5"
  }
 },
 "nbformat": 4,
 "nbformat_minor": 2
}
