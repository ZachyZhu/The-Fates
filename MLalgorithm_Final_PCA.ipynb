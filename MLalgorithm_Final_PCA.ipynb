{
 "cells": [
  {
   "cell_type": "code",
   "execution_count": 152,
   "metadata": {},
   "outputs": [],
   "source": [
    "import pandas as pd\n",
    "import numpy as np\n",
    "from sklearn.model_selection import train_test_split,KFold,cross_validate\n",
    "from sklearn.linear_model import LogisticRegression\n",
    "from sklearn.neighbors import KNeighborsClassifier\n",
    "from sklearn.metrics import roc_curve, auc,confusion_matrix\n",
    "import matplotlib.pyplot as plt\n",
    "from sklearn.model_selection import train_test_split, KFold\n",
    "import matplotlib.pyplot as plt\n",
    "from sklearn.tree import DecisionTreeClassifier\n",
    "from sklearn import tree\n",
    "from sklearn.metrics import accuracy_score, confusion_matrix\n",
    "from sklearn.naive_bayes import MultinomialNB,BernoulliNB\n",
    "from sklearn.decomposition import PCA"
   ]
  },
  {
   "cell_type": "markdown",
   "metadata": {},
   "source": [
    "<h4>Data processing for machine learning algorithm</h4>"
   ]
  },
  {
   "cell_type": "code",
   "execution_count": 153,
   "metadata": {},
   "outputs": [
    {
     "name": "stdout",
     "output_type": "stream",
     "text": [
      "(1946, 384)\n",
      "(1654, 383)\n",
      "(292, 383)\n"
     ]
    }
   ],
   "source": [
    "df=pd.read_csv('final_data.csv')\n",
    "del df['Unnamed: 0']\n",
    "del df['boolDeadRelations']\n",
    "del df['age']\n",
    "del df['isNoble']\n",
    "\n",
    "df.set_index('name',inplace=True)\n",
    "\n",
    "# get dummy varibles for ordinal varibles\n",
    "culture_dummy=pd.get_dummies(df['culture'],prefix='Culture') #Nan value will be ingored automatically\n",
    "df[culture_dummy.columns]=culture_dummy\n",
    "del df['culture']\n",
    "\n",
    "house_dummy=pd.get_dummies(df['house'],prefix='House')\n",
    "df[house_dummy.columns]=house_dummy\n",
    "del df['house']\n",
    "\n",
    "identity_dummy=pd.get_dummies(df['identity'])\n",
    "df[identity_dummy.columns]=identity_dummy\n",
    "del df['identity']  \n",
    "del df['lord']  #delete one column to eliminate the linear relationships\n",
    "print(df.shape)\n",
    "#get the attribute set and label set\n",
    "X=df.drop('isAlive',axis=1)\n",
    "Y=df['isAlive']\n",
    "\n",
    "X_train,X_test,Y_train,Y_test=train_test_split(X,Y,test_size=0.15)\n",
    "print(X_train.shape)\n",
    "print(X_test.shape)"
   ]
  },
  {
   "cell_type": "code",
   "execution_count": 154,
   "metadata": {},
   "outputs": [],
   "source": [
    "#just write the X,Y with the best accuracy\n",
    "\n",
    "#X_train=pd.read_csv('X_train.csv',index_col='name')\n",
    "#X_test=pd.read_csv('X_test.csv',index_col='name')\n",
    "#Y_train=pd.read_csv('Y_train.csv',index_col='name').values.ravel()\n",
    "#Y_test=pd.read_csv('Y_test.csv',index_col='name').values.ravel()"
   ]
  },
  {
   "cell_type": "code",
   "execution_count": null,
   "metadata": {},
   "outputs": [],
   "source": []
  },
  {
   "cell_type": "code",
   "execution_count": 155,
   "metadata": {
    "scrolled": true
   },
   "outputs": [
    {
     "name": "stdout",
     "output_type": "stream",
     "text": [
      "(1654, 89)\n",
      "(292, 89)\n"
     ]
    }
   ],
   "source": [
    "# use PCA method to lower the dimension\n",
    "pca = PCA(0.95)\n",
    "x_total = df.drop(columns=['isAlive'])\n",
    "lower_dimensional_x = pca.fit_transform(x_total)\n",
    "df_pca_features = pd.DataFrame(data=lower_dimensional_x ,\n",
    "          index=list(df.index),\n",
    "          columns=np.arange(lower_dimensional_x.shape[1]))\n",
    "df_pca_features['isAlive'] = df[['isAlive']].values\n",
    "df_concat = df_pca_features\n",
    "# df_concat = pd.concat([df_pca_features,pd.DataFrame(df[['isAlive']])])\n",
    "# print(df_concat.shape)\n",
    "train, test = train_test_split(df_concat,test_size=0.15)\n",
    "x_train_pca = train.drop(columns=['isAlive'])\n",
    "y_train_pca = train[['isAlive']]\n",
    "x_test_pca = test.drop(columns=['isAlive'])\n",
    "y_test_pca = test[['isAlive']]\n",
    "y_train_pca = y_train_pca.values.ravel()\n",
    "y_test_pca = y_test_pca.values.ravel()\n",
    "print(x_train_pca.shape)\n",
    "print(x_test_pca.shape)"
   ]
  },
  {
   "cell_type": "code",
   "execution_count": 156,
   "metadata": {},
   "outputs": [
    {
     "name": "stdout",
     "output_type": "stream",
     "text": [
      "                      0         1         2         3         4         5   \\\n",
      "Porther        -0.287910  0.369574  0.882353  0.766061  0.640754 -0.403978   \n",
      "Sandor Clegane  0.835061 -1.137011  0.772735 -0.166166 -0.002711  0.479769   \n",
      "Ternesio Terys -0.346557 -0.039865  0.220106 -0.124746 -0.458654  0.299512   \n",
      "Uthor Tollett  -0.348573  0.389020 -1.139887 -0.199940  0.052617 -0.078978   \n",
      "Mya Stone      -0.195595 -0.958942  0.047604  1.166886 -0.317197 -0.060888   \n",
      "\n",
      "                      6         7         8         9   ...        79  \\\n",
      "Porther        -0.063405 -0.850606  0.108678  0.271116  ... -0.012489   \n",
      "Sandor Clegane  0.494958 -0.277665 -0.076102  0.025829  ...  0.001249   \n",
      "Ternesio Terys -0.626689  0.561232  0.450610 -0.075081  ...  0.011656   \n",
      "Uthor Tollett   0.109145  0.020441  0.142547  0.291440  ... -0.005413   \n",
      "Mya Stone       0.374903 -0.545208 -0.148944  0.234542  ... -0.007397   \n",
      "\n",
      "                      80        81        82        83        84        85  \\\n",
      "Porther         0.154862 -0.065066  0.161953  0.049466  0.010725  0.008858   \n",
      "Sandor Clegane  0.013066 -0.031593  0.001723  0.006695 -0.003409  0.000419   \n",
      "Ternesio Terys -0.001832 -0.004289 -0.008820 -0.002469  0.001506 -0.000624   \n",
      "Uthor Tollett   0.006176  0.071087 -0.012210 -0.013023 -0.005668 -0.008124   \n",
      "Mya Stone      -0.000137 -0.027950  0.000274  0.002108 -0.001410  0.001889   \n",
      "\n",
      "                      86        87        88  \n",
      "Porther         0.024171  0.006540 -0.004577  \n",
      "Sandor Clegane  0.008408  0.001452 -0.029707  \n",
      "Ternesio Terys -0.001538  0.009131 -0.001151  \n",
      "Uthor Tollett   0.001712 -0.000406  0.010096  \n",
      "Mya Stone      -0.004370 -0.002259  0.007511  \n",
      "\n",
      "[5 rows x 89 columns]\n"
     ]
    }
   ],
   "source": [
    "print(x_train_pca.head())"
   ]
  },
  {
   "cell_type": "markdown",
   "metadata": {},
   "source": [
    "<h4>K_nearest neighbors algorithm</h4>"
   ]
  },
  {
   "cell_type": "code",
   "execution_count": 157,
   "metadata": {},
   "outputs": [],
   "source": [
    "base_model=KNeighborsClassifier(n_neighbors=3)\n",
    "score=validate_model(base_model,5,x_train_pca,y_train_pca)  "
   ]
  },
  {
   "cell_type": "code",
   "execution_count": 158,
   "metadata": {},
   "outputs": [],
   "source": [
    "def validate_model(model,K,X,Y):    #cross validation\n",
    "    folder=KFold(K,shuffle=True)\n",
    "    folds=folder.split(X,Y)\n",
    "    val_error=0.0\n",
    "    fold_count=0\n",
    "    for fold in folds:\n",
    "        train_idx,val_idx=fold\n",
    "        x_train=X.iloc[train_idx]\n",
    "        y_train=Y[train_idx]\n",
    "        x_val=X.iloc[val_idx]\n",
    "        y_val=Y[val_idx]     \n",
    "        model.fit(x_train,y_train)\n",
    "        y_pred=model.predict(x_val)\n",
    "        val_err=np.mean(y_val==y_pred)\n",
    "        val_error+=val_err\n",
    "        fold_count+=1\n",
    "    return val_error/K"
   ]
  },
  {
   "cell_type": "code",
   "execution_count": 159,
   "metadata": {},
   "outputs": [],
   "source": [
    "#choose the best k for the model\n",
    "accuracy=np.array([])  \n",
    "for k in range(3,20):\n",
    "    base_model=KNeighborsClassifier(n_neighbors=k)\n",
    "    score=validate_model(base_model,5,x_train_pca,y_train_pca)  #use 5-fold\n",
    "    accuracy=np.append(accuracy,score)"
   ]
  },
  {
   "cell_type": "code",
   "execution_count": 160,
   "metadata": {},
   "outputs": [
    {
     "name": "stdout",
     "output_type": "stream",
     "text": [
      "the best_k is 8\n",
      "the accuracy of knn is 0.773972602739726\n",
      "[[ 33  24]\n",
      " [ 42 193]]\n"
     ]
    },
    {
     "data": {
      "text/plain": [
       "[<matplotlib.lines.Line2D at 0x134739400>]"
      ]
     },
     "execution_count": 160,
     "metadata": {},
     "output_type": "execute_result"
    },
    {
     "data": {
      "image/png": "[encoded data removed]",
      "text/plain": [
       "<Figure size 432x288 with 1 Axes>"
      ]
     },
     "metadata": {
      "needs_background": "light"
     },
     "output_type": "display_data"
    }
   ],
   "source": [
    "best_k=accuracy.argmax()+3\n",
    "print(f'the best_k is {best_k}')\n",
    "knn_best_model=KNeighborsClassifier(n_neighbors=best_k).fit(x_train_pca,y_train_pca)\n",
    "Y_pre=knn_best_model.predict(x_test_pca)\n",
    "print(f'the accuracy of knn is {np.mean(Y_pre==y_test_pca)}')\n",
    "matrix=confusion_matrix(Y_pre,y_test_pca)\n",
    "print(matrix)\n",
    "(fpr, tpr, thresholds) = roc_curve(y_test_pca,Y_pre)\n",
    "area = auc(fpr,tpr)\n",
    "plt.title(f'the auc of knn is {area}')\n",
    "plt.xlabel('fpr')\n",
    "plt.ylabel('tpr')\n",
    "plt.plot([0, 1], [0, 1], 'k')\n",
    "plt.plot(fpr,tpr)"
   ]
  },
  {
   "cell_type": "markdown",
   "metadata": {},
   "source": [
    "<h4>Naive Bayes<h4>"
   ]
  },
  {
   "cell_type": "code",
   "execution_count": 64,
   "metadata": {},
   "outputs": [
    {
     "name": "stdout",
     "output_type": "stream",
     "text": [
      "0.7705479452054794\n",
      "0.7636986301369864\n"
     ]
    }
   ],
   "source": [
    "NB_model1 = MultinomialNB(alpha=1) #use Multinomial Naive Bayes, let alpha=1 (Laplace Smoothing)\n",
    "NB_model1.fit(X_train,Y_train)\n",
    "NB_model2 = BernoulliNB() #use BernouliNB to predict\n",
    "NB_model2.fit(X_train,Y_train) \n",
    "print(accuracy_score(Y_test,NB_model1.predict(X_test)))\n",
    "print(accuracy_score(Y_test,NB_model2.predict(X_test))) \n",
    "#contrast"
   ]
  },
  {
   "cell_type": "markdown",
   "metadata": {},
   "source": [
    "<h4>Decision Tree<h4>"
   ]
  },
  {
   "cell_type": "code",
   "execution_count": 161,
   "metadata": {},
   "outputs": [
    {
     "data": {
      "text/plain": [
       "[<matplotlib.lines.Line2D at 0x1312c29b0>]"
      ]
     },
     "execution_count": 161,
     "metadata": {},
     "output_type": "execute_result"
    },
    {
     "data": {
      "image/png": "[encoded data removed]",
      "text/plain": [
       "<Figure size 432x288 with 1 Axes>"
      ]
     },
     "metadata": {
      "needs_background": "light"
     },
     "output_type": "display_data"
    }
   ],
   "source": [
    "performance=np.repeat(0.0,19)\n",
    "for k in range(2,20): #We are trying to find the best depth of the decision tree in case overfitting \n",
    "    decision_tree_model = tree.DecisionTreeClassifier(max_depth=k) \n",
    "    avg_performance=(validate_model(decision_tree_model,k,x_train_pca,y_train_pca))\n",
    "    performance[k-1]=avg_performance\n",
    "outcomes=np.arange(1,20)\n",
    "plt.plot(outcomes,performance)"
   ]
  },
  {
   "cell_type": "code",
   "execution_count": 162,
   "metadata": {},
   "outputs": [
    {
     "data": {
      "text/plain": [
       "0.7842465753424658"
      ]
     },
     "execution_count": 162,
     "metadata": {},
     "output_type": "execute_result"
    }
   ],
   "source": [
    "decision_tree_model = tree.DecisionTreeClassifier(max_depth=10)\n",
    "#Roughly, the best max depth is 10\n",
    "decision_tree_model.fit(x_train_pca,y_train_pca)\n",
    "accuracy_score(y_test_pca, decision_tree_model.predict(x_test_pca))"
   ]
  },
  {
   "cell_type": "code",
   "execution_count": 136,
   "metadata": {},
   "outputs": [],
   "source": [
    "# feature_names = [key for key in df_concat if not key=='isAlive']\n",
    "# from IPython.display import Image\n",
    "# dot_data = tree.export_graphviz(decision_tree_model, out_file=None,feature_names=feature_names)\n",
    "# import pydotplus\n",
    "\n",
    "# graph = pydotplus.graphviz.graph_from_dot_data(dot_data)\n",
    "\n",
    "# Image(graph.create_png())\n",
    "# #visualization "
   ]
  },
  {
   "cell_type": "markdown",
   "metadata": {},
   "source": [
    "<h4>Random Forrest<h4>"
   ]
  },
  {
   "cell_type": "code",
   "execution_count": 163,
   "metadata": {
    "scrolled": true
   },
   "outputs": [
    {
     "data": {
      "text/plain": [
       "0.8184931506849316"
      ]
     },
     "execution_count": 163,
     "metadata": {},
     "output_type": "execute_result"
    }
   ],
   "source": [
    "from sklearn.ensemble import RandomForestClassifier\n",
    "\n",
    "RFC_model = RandomForestClassifier(n_estimators=10)\n",
    "RFC_model.fit(x_train_pca,y_train_pca)\n",
    "accuracy_score(y_test_pca, RFC_model.predict(x_test_pca))\n",
    "#random forrest's algorithm"
   ]
  },
  {
   "cell_type": "markdown",
   "metadata": {},
   "source": [
    "<h4>SVM<h4>"
   ]
  },
  {
   "cell_type": "code",
   "execution_count": 164,
   "metadata": {},
   "outputs": [],
   "source": [
    "from sklearn.svm import SVC"
   ]
  },
  {
   "cell_type": "code",
   "execution_count": 166,
   "metadata": {
    "scrolled": false
   },
   "outputs": [],
   "source": [
    "performance=np.repeat(0.0,50)\n",
    "k=0\n",
    "for c in np.arange(2,102,2):\n",
    "    SVM_model = SVC(kernel='rbf',C=c,gamma='auto')\n",
    "    SVM_model.fit(x_train_pca,y_train_pca)\n",
    "    performance[k]=accuracy_score(y_test_pca, SVM_model.predict(x_test_pca))\n",
    "    k+=1\n",
    "#we will use this loop to determine c value(regularizaiton)"
   ]
  },
  {
   "cell_type": "code",
   "execution_count": 167,
   "metadata": {},
   "outputs": [
    {
     "data": {
      "text/plain": [
       "[<matplotlib.lines.Line2D at 0x130eeaba8>]"
      ]
     },
     "execution_count": 167,
     "metadata": {},
     "output_type": "execute_result"
    },
    {
     "data": {
      "image/png": "[encoded data removed]",
      "text/plain": [
       "<Figure size 432x288 with 1 Axes>"
      ]
     },
     "metadata": {
      "needs_background": "light"
     },
     "output_type": "display_data"
    }
   ],
   "source": [
    "outcomes=np.arange(2,102,2)\n",
    "plt.plot(outcomes,performance)"
   ]
  },
  {
   "cell_type": "code",
   "execution_count": 168,
   "metadata": {
    "scrolled": true
   },
   "outputs": [
    {
     "data": {
      "text/plain": [
       "0.7808219178082192"
      ]
     },
     "execution_count": 168,
     "metadata": {},
     "output_type": "execute_result"
    }
   ],
   "source": [
    "SVM_model = SVC(kernel='rbf',C=20,gamma='auto')\n",
    "SVM_model.fit(x_train_pca,y_train_pca)\n",
    "accuracy_score(y_test_pca, SVM_model.predict(x_test_pca))\n",
    "#seems 20 is a good choise"
   ]
  },
  {
   "cell_type": "code",
   "execution_count": 169,
   "metadata": {},
   "outputs": [
    {
     "data": {
      "text/plain": [
       "array([[ 15,  60],\n",
       "       [  4, 213]])"
      ]
     },
     "execution_count": 169,
     "metadata": {},
     "output_type": "execute_result"
    }
   ],
   "source": [
    "confusion_matrix(y_test_pca,SVM_model.predict(x_test_pca))"
   ]
  },
  {
   "cell_type": "markdown",
   "metadata": {},
   "source": [
    "<h4>Logistic Regression</h4>"
   ]
  },
  {
   "cell_type": "code",
   "execution_count": 170,
   "metadata": {},
   "outputs": [
    {
     "name": "stdout",
     "output_type": "stream",
     "text": [
      "the accuracy of LogisticRegression is 0.773972602739726\n"
     ]
    }
   ],
   "source": [
    "Logis_model=LogisticRegression(solver='liblinear').fit(x_train_pca,y_train_pca)\n",
    "y_pre=Logis_model.predict(x_test_pca)\n",
    "print(f'the accuracy of LogisticRegression is {np.mean(y_pre==y_test_pca)}')"
   ]
  },
  {
   "cell_type": "code",
   "execution_count": 171,
   "metadata": {},
   "outputs": [
    {
     "data": {
      "text/plain": [
       "<BarContainer object of 10 artists>"
      ]
     },
     "execution_count": 171,
     "metadata": {},
     "output_type": "execute_result"
    },
    {
     "data": {
      "image/png": "[encoded data removed]",
      "text/plain": [
       "<Figure size 432x288 with 1 Axes>"
      ]
     },
     "metadata": {
      "needs_background": "light"
     },
     "output_type": "display_data"
    }
   ],
   "source": [
    "#calculate the importance of each attribute\n",
    "feature_importance=Logis_model.coef_.ravel()*np.std(x_train_pca,axis=0)\n",
    "#find the most ten important factors\n",
    "index=feature_importance[abs(feature_importance).argsort()[::-1][:10]].index\n",
    "plt.barh(index,feature_importance[abs(feature_importance).argsort()[::-1][:10]])"
   ]
  },
  {
   "cell_type": "code",
   "execution_count": 172,
   "metadata": {
    "scrolled": false
   },
   "outputs": [
    {
     "name": "stdout",
     "output_type": "stream",
     "text": [
      "[[ 26  17]\n",
      " [ 49 200]]\n"
     ]
    },
    {
     "data": {
      "text/plain": [
       "[<matplotlib.lines.Line2D at 0x1313e30f0>]"
      ]
     },
     "execution_count": 172,
     "metadata": {},
     "output_type": "execute_result"
    },
    {
     "data": {
      "image/png": "[encoded data removed]",
      "text/plain": [
       "<Figure size 432x288 with 1 Axes>"
      ]
     },
     "metadata": {
      "needs_background": "light"
     },
     "output_type": "display_data"
    }
   ],
   "source": [
    "matrix=confusion_matrix(y_pre,y_test_pca)\n",
    "print(matrix)\n",
    "(fpr, tpr, thresholds) = roc_curve(y_test_pca,y_pre)\n",
    "area = auc(fpr,tpr)\n",
    "plt.title(f'the auc of LogisticsRegression is {area}')\n",
    "plt.xlabel('fpr')\n",
    "plt.ylabel('tpr')\n",
    "plt.plot([0, 1], [0, 1], 'k')\n",
    "plt.plot(fpr,tpr)"
   ]
  },
  {
   "cell_type": "markdown",
   "metadata": {},
   "source": [
    "<h4>Predict the death probability for the main characters</h4>"
   ]
  },
  {
   "cell_type": "code",
   "execution_count": 173,
   "metadata": {
    "scrolled": true
   },
   "outputs": [
    {
     "data": {
      "text/html": [
       "<div>\n",
       "<style scoped>\n",
       "    .dataframe tbody tr th:only-of-type {\n",
       "        vertical-align: middle;\n",
       "    }\n",
       "\n",
       "    .dataframe tbody tr th {\n",
       "        vertical-align: top;\n",
       "    }\n",
       "\n",
       "    .dataframe thead th {\n",
       "        text-align: right;\n",
       "    }\n",
       "</style>\n",
       "<table border=\"1\" class=\"dataframe\">\n",
       "  <thead>\n",
       "    <tr style=\"text-align: right;\">\n",
       "      <th></th>\n",
       "      <th>Death</th>\n",
       "      <th>Alive</th>\n",
       "    </tr>\n",
       "  </thead>\n",
       "  <tbody>\n",
       "    <tr>\n",
       "      <th>Arya Stark</th>\n",
       "      <td>0.387503</td>\n",
       "      <td>0.612497</td>\n",
       "    </tr>\n",
       "    <tr>\n",
       "      <th>Jon Snow</th>\n",
       "      <td>0.414868</td>\n",
       "      <td>0.585132</td>\n",
       "    </tr>\n",
       "    <tr>\n",
       "      <th>Sansa Stark</th>\n",
       "      <td>0.420523</td>\n",
       "      <td>0.579477</td>\n",
       "    </tr>\n",
       "    <tr>\n",
       "      <th>Bran Stark</th>\n",
       "      <td>0.534434</td>\n",
       "      <td>0.465566</td>\n",
       "    </tr>\n",
       "    <tr>\n",
       "      <th>Cersei Lannister</th>\n",
       "      <td>0.700655</td>\n",
       "      <td>0.299345</td>\n",
       "    </tr>\n",
       "    <tr>\n",
       "      <th>Jaime Lannister</th>\n",
       "      <td>0.748176</td>\n",
       "      <td>0.251824</td>\n",
       "    </tr>\n",
       "    <tr>\n",
       "      <th>Daenerys Targaryen</th>\n",
       "      <td>0.876722</td>\n",
       "      <td>0.123278</td>\n",
       "    </tr>\n",
       "    <tr>\n",
       "      <th>Tyrion Lannister</th>\n",
       "      <td>0.880430</td>\n",
       "      <td>0.119570</td>\n",
       "    </tr>\n",
       "  </tbody>\n",
       "</table>\n",
       "</div>"
      ],
      "text/plain": [
       "                       Death     Alive\n",
       "Arya Stark          0.387503  0.612497\n",
       "Jon Snow            0.414868  0.585132\n",
       "Sansa Stark         0.420523  0.579477\n",
       "Bran Stark          0.534434  0.465566\n",
       "Cersei Lannister    0.700655  0.299345\n",
       "Jaime Lannister     0.748176  0.251824\n",
       "Daenerys Targaryen  0.876722  0.123278\n",
       "Tyrion Lannister    0.880430  0.119570"
      ]
     },
     "execution_count": 173,
     "metadata": {},
     "output_type": "execute_result"
    }
   ],
   "source": [
    "#Get the data we need to predict\n",
    "name=['Sansa Stark','Tyrion Lannister','Jon Snow','Daenerys Targaryen','Jaime Lannister','Bran Stark', 'Arya Stark','Cersei Lannister']\n",
    "X_prediction=df_concat.loc[name].drop('isAlive',axis=1)\n",
    "Y_prediction=df_concat.loc[name]['isAlive']\n",
    "death_prob=Logis_model.predict_proba(X_prediction)\n",
    "pd.DataFrame(death_prob,index=name,columns=['Death','Alive']).sort_values(by='Death')"
   ]
  },
  {
   "cell_type": "markdown",
   "metadata": {},
   "source": [
    "<h4>Try to use oversampling to modify the imbalanced dataset"
   ]
  },
  {
   "cell_type": "code",
   "execution_count": null,
   "metadata": {},
   "outputs": [],
   "source": []
  },
  {
   "cell_type": "code",
   "execution_count": 174,
   "metadata": {},
   "outputs": [],
   "source": [
    "# #use random oversample to modify the data\n",
    "# from imblearn.over_sampling import RandomOverSampler,SMOTE\n",
    "# from imblearn.pipeline import make_pipeline as make_imb_pipeline\n",
    "# ros = RandomOverSampler()\n",
    "# X_train_oversample, Y_train_oversample = ros.fit_sample(x_train_pca, y_train_pca)\n",
    "# oversample_pipe = make_imb_pipeline(RandomOverSampler(), LogisticRegression(solver='liblinear'))\n",
    "# scores = cross_validate(oversample_pipe,\n",
    "#                         x_train_pca, y_train_pca, cv=10,\n",
    "#                         scoring=('roc_auc', 'average_precision'))\n",
    "# scores['test_roc_auc'].mean(), scores['test_average_precision'].mean()"
   ]
  },
  {
   "cell_type": "code",
   "execution_count": 151,
   "metadata": {
    "scrolled": true
   },
   "outputs": [],
   "source": [
    "# #use smote method to modify the data\n",
    "# oversample_pipe = make_imb_pipeline(SMOTE(), LogisticRegression(solver='liblinear'))\n",
    "# scores = cross_validate(oversample_pipe,\n",
    "#                         X_train, Y_train, cv=10,\n",
    "#                         scoring=('roc_auc', 'average_precision'))\n",
    "# scores['test_roc_auc'].mean(), scores['test_average_precision'].mean()"
   ]
  },
  {
   "cell_type": "code",
   "execution_count": null,
   "metadata": {},
   "outputs": [],
   "source": []
  }
 ],
 "metadata": {
  "kernelspec": {
   "display_name": "Python 3",
   "language": "python",
   "name": "python3"
  },
  "language_info": {
   "codemirror_mode": {
    "name": "ipython",
    "version": 3
   },
   "file_extension": ".py",
   "mimetype": "text/x-python",
   "name": "python",
   "nbconvert_exporter": "python",
   "pygments_lexer": "ipython3",
   "version": "3.6.8"
  }
 },
 "nbformat": 4,
 "nbformat_minor": 2
}
