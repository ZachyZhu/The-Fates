{
 "cells": [
  {
   "cell_type": "code",
   "execution_count": 54,
   "metadata": {},
   "outputs": [],
   "source": [
    "import numpy as np\n",
    "import pandas as pd\n",
    "import requests\n",
    "from bs4 import BeautifulSoup\n",
    "from nltk import word_tokenize,sent_tokenize\n",
    "import nltk\n",
    "from nltk.tokenize import word_tokenize\n",
    "from nltk.tokenize import sent_tokenize\n",
    "from nltk.probability import FreqDist\n",
    "from nltk.corpus import stopwords\n",
    "from collections import OrderedDict\n",
    "import pprint\n",
    "import gensim.summarization"
   ]
  },
  {
   "cell_type": "code",
   "execution_count": 65,
   "metadata": {},
   "outputs": [],
   "source": [
    "def summary(name):\n",
    "    response=requests.get(\"http://awoiaf.westeros.org/index.php/\"+'Viserys II Targaryen'.replace(' ','_'))\n",
    "    results_page=BeautifulSoup(response.content,'lxml')\n",
    "    # paragraph = results_page.find('div',class_='mw-parser-output').find('p').get_text()\n",
    "    para = results_page.find_all('p')\n",
    "    pa2 = list()\n",
    "    for i in para:\n",
    "        pa2.append(i.get_text())\n",
    "    summary_sentences = []\n",
    "    candidate_sentences = {}\n",
    "    candidate_sentence_counts = {}\n",
    "    text = r'{}'.format(pa2)\n",
    "    striptext = text.replace('\\n\\n', '')\n",
    "    striptext = striptext.replace('\\n', '')\n",
    "    striptext = striptext.replace('\\\\n', '')\n",
    "    striptext = striptext.replace(\"', \", '')\n",
    "    striptext = striptext.replace(\"[1]\", '')\n",
    "    striptext = striptext.replace(\"[2]\", '')\n",
    "    striptext = striptext.replace(\"[3]\", '')\n",
    "    striptext = striptext.replace(\"[4]\", '')\n",
    "    striptext = striptext.replace(\"[5]\", '')\n",
    "    striptext = striptext.replace(\"[6]\", '')\n",
    "    striptext = striptext.replace(\"[7]\", '')\n",
    "    striptext = striptext.replace(\"[8]\", '')\n",
    "    striptext = striptext.replace(\"[9]\", '')\n",
    "    print(striptext)\n",
    "    #print(striptext)\n",
    "    summary = gensim.summarization.summarize(striptext, word_count=100)\n",
    "    return summary\n",
    "\n",
    "    "
   ]
  },
  {
   "cell_type": "code",
   "execution_count": 66,
   "metadata": {},
   "outputs": [
    {
     "name": "stdout",
     "output_type": "stream",
     "text": [
      "['Viserys II Targaryen was the tenth Targaryen king to sit the Iron Throne as Lord of the Seven Kingdoms. He was the son of Rhaenyra Targaryen and Daemon Targaryen, the brother and Hand of King Aegon III Targaryen, and the father of King Aegon IV Targaryen, Queen Naerys Targaryen, and Prince Aemon \"the Dragonknight\".'According to a semi-canon source, Viserys II was clean-shaven with long hair. He had a prominent nose, bushy eyebrows and a shrewd, calculating look to him. He wore the simple crown of Aegon III.'Viserys was frailer than his brother Aegon, but was more mature than him and his other Velaryon half brothers. Unlike Aegon, Viserys had the gift of charm, but later became stern.'Born in 122 AC, Viserys was the second born son of his father, Prince Daemon Targaryen, and the fifth born son of his mother, Princess Rhaenyra Targaryen. As per Targaryen tradition, a dragon egg was placed in his cradle. Viserys was named after his grandfather, King Viserys I Targaryen.\"Viserys had four older brothers; three half-brothers from his mother's first marriage, Jacaerys, Lucerys and Joffrey Velaryon, and one full-blood brother, Aegon. He also had two older half-sisers, Baela and Rhaena Targaryen, from his father's second marriage.\", \"Viserys lived with his mother, father, brothers, and sisters on Dragonstone, his mother's seat as the Princess of Dragonstone. When his grandfather died in early 129 AC, Viserys and his family were thus away from the capital, since Rhaenyra was pregnant for the sixth time. This pregnancy led to the birth of Viserys's stillborn younger sister, Visenya.\", \"The death of his grandfather sparked a war of succession between Viserys's mother, Rhaenyra, and his half-uncle, Prince Aegon, who was crowned King Aegon II Targaryen, despite Rhaenyra having been the heir to the throne.\", \"In late 129 AC, at the behest of their half-brother Jacaerys Velaryon, Viserys and his older brother Aegon were sent to Essos aboard the Gay Abandon to be fostered by a prince of Pentos until their mother Rhaenyra secured the Iron Throne. However, the fleet of the Kingdom of the Three Daughters, who were allied with the greens and Aegon II Targaryen, captured the Gay Abandon during the voyage. Aegon flew away atop his dragon, Stormcloud, but Viserys had only a dragon egg. Remaining behind, the clever Viserys hid his egg and disguised himself as a common ship's boy, but his identity was revealed by one of the crew. A Tyroshi captain brought Viserys to Sharako Lohar, the Triarchy's admiral. Viserys's fate through the remainder of the Dance of the Dragons was unknown to his family, who believed he had died in the battle.\", \"Viserys ended up in Lys under the stewardship of the wealthy Rogare family, whose bank at the time was as powerful as the Iron Bank of Braavos. Viserys was wed at age 12 to the family's eldest daughter, Larra, in 134 AC, despite her being seven years his senior.\", \"During the early reign of Viserys's older brother, Aegon III, it became known in Westeros that Viserys had survived. He was recovered by Oakenfist in 134 AC or 135 AC, and after a huge ransom was paid to the merchant princes of Lys, Viserys returned to King's Landing. Aegon had never forgiven himself for abandoning his brother during the Battle in the Gullet, and so Viserys's return was the only true joy he had in his reign. For the rest of Aegon's life, Viserys was the only person Aegon ever fully trusted.\", \"Viserys came to King's Landing with his new wife Larra Rogare and several of her kin. The ambitious Rogare family soon became embroiled in the conflicts of the regency of Aegon III. Although the Rogares at the Red Keep were apparently guilty of some crimes, their rivals in King's Landing blamed them for many more. In 135 AC, Lord Thaddeus Rowan was tortured in an attempt to find evidence against the Rogares, and Ser Marston Waters, the Hand of the King, sent men to capture Larra after arresting her brothers. Aegon and Viserys refused to surrender Larra, however, and defiantly protected her in Maegor's Holdfast in what would later become known as the secret siege. Eventually the case against the Rogares collapsed.\", \"Viserys and Larra had three children: Aegon (born 135 AC), Aemon (born 136 AC), and Naerys (born 138 AC). Unfortunately, Larra never felt happy at court, and in 139 AC, she left Viserys and their three children and returned to Lys, an experience that made Viserys stern. Viserys had Aegon and Naerys wed to one another in 153 AC, with Aegon III's blessing, while Aemon became a knight of the Kingsguard.\", 'After Aegon III came of age in 136 AC, he dismissed the regents and his Hand of the King.\"Eventually, Viserys served as Hand during the last years of Aegon's reign. Viserys remained in the office during the reigns of both of his brothers sons, Daeron I and Baelor I. Viserys was said to be instrumental in keeping the realm intact while Aegon brooded, Daeron warred, and Baelor prayed. It was rumored that to spare the realm embarrassment, Viserys used his position as Hand to order the poisoning of a stonemason whom Baelor had appointed as High Septon.[10]\", \"Viserys II ascended to throne at age 49, after the death of his nephew, Baelor I Targaryen, in 171 AC. There were some amongst the smallfolk — and even some lords — who felt that the Iron Throne should have rightfully passed to Baelor's sister Daena, as she was Aegon III's eldest daughter. However, a decade of isolation in the Maidenvault had left Daena and her sisters without powerful allies, and memories of Rhaenyra Targaryen and the Dance of the Dragons had left many leery of the idea of a woman on the Iron Throne. Also, Daena the Defiant was seen by many as being wild, unmanageable, and wanton (as a year earlier she had given birth to her bastard son Daemon). The precedents of the Great Council of 101 AC and the Dance of the Dragons were therefore cited, the claims of Baelor's sisters were set aside, and the crown passed to Viserys.\", 'Although his reign lasted only a little longer than a year, Viserys issued reforms of the royal household and its functions, established a new royal mint, made efforts to increase trade across the narrow sea, and made positive revisions to the already progressive code of laws established by the Old King, Jaehaerys I. It is believed that Viserys had it in him to be another Jaehaerys the Wise, as he was just as wise and shrewd. Unfortunately, a sudden illness led to his death in 172 AC.\"Viserys was succeeded by his eldest son, Aegon IV Targaryen. Some historians suspect that Viserys's death was not natural and that Aegon IV had poisoned him.\", 'Viserys is not remembered fondly in Westeros, as some accuse him of poisoning Baelor to gain the throne and doing nothing once he gained it. Still, Viserys may have reigned for only a year, but in his previous role as Hand of the King he had ruled and preserved the land for much longer. The reigns and follies of Aegon, Daeron, and Baelor would have been much worse if not for his tenure as Hand of the King.[11]'Prince Viserys was a lively and likely young lad, possessed of great charm and boundless vitality. Though not as tall, as strong, or as handsome as his brother, he struck all who met him as more clever and more curious than the king.[12]'Viserys might have only reigned a year, but he ruled for fifteen, while Daeron warred and Baelor prayed.[11]''']\n"
     ]
    },
    {
     "data": {
      "text/plain": [
       "'This pregnancy led to the birth of Viserys\\'s stillborn younger sister, Visenya.\", \"The death of his grandfather sparked a war of succession between Viserys\\'s mother, Rhaenyra, and his half-uncle, Prince Aegon, who was crowned King Aegon II Targaryen, despite Rhaenyra having been the heir to the throne.\", \"In late 129 AC, at the behest of their half-brother Jacaerys Velaryon, Viserys and his older brother Aegon were sent to Essos aboard the Gay Abandon to be fostered by a prince of Pentos until their mother Rhaenyra secured the Iron Throne.\\nViserys was wed at age 12 to the family\\'s eldest daughter, Larra, in 134 AC, despite her being seven years his senior.\", \"During the early reign of Viserys\\'s older brother, Aegon III, it became known in Westeros that Viserys had survived.'"
      ]
     },
     "execution_count": 66,
     "metadata": {},
     "output_type": "execute_result"
    }
   ],
   "source": [
    "summary('Will')"
   ]
  },
  {
   "cell_type": "raw",
   "metadata": {},
   "source": []
  }
 ],
 "metadata": {
  "kernelspec": {
   "display_name": "Python 3",
   "language": "python",
   "name": "python3"
  },
  "language_info": {
   "codemirror_mode": {
    "name": "ipython",
    "version": 3
   },
   "file_extension": ".py",
   "mimetype": "text/x-python",
   "name": "python",
   "nbconvert_exporter": "python",
   "pygments_lexer": "ipython3",
   "version": "3.6.8"
  }
 },
 "nbformat": 4,
 "nbformat_minor": 2
}
